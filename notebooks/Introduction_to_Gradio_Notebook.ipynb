{
  "nbformat": 4,
  "nbformat_minor": 0,
  "metadata": {
    "colab": {
      "provenance": []
    },
    "kernelspec": {
      "display_name": "Python 3",
      "name": "python3"
    }
  },
  "cells": [
    {
      "cell_type": "markdown",
      "metadata": {
        "id": "2X-5SAt5L5oh"
      },
      "source": [
        "# What is Gradio?"
      ]
    },
    {
      "cell_type": "markdown",
      "metadata": {
        "id": "XQu1Qw2TMOH-"
      },
      "source": [
        "Gradio is an open-source Python library that lets you create **web-based GUIs** from your machine learning (ML) models in just a few lines of code. These GUIs allow your models to be **used and tested by non-ML people** without any specialized hardware or software, directly from the browser!\n",
        "\n",
        "![link text](https://i.imgur.com/MCfZmjd.png)\n"
      ]
    },
    {
      "cell_type": "markdown",
      "metadata": {
        "id": "GxugDWl1Q4Al"
      },
      "source": [
        "# How do I use Gradio?"
      ]
    },
    {
      "cell_type": "markdown",
      "metadata": {
        "id": "uMFS7U9aLl73"
      },
      "source": [
        "### 0. Installation\n",
        "\n",
        "`gradio` is a Python package, so it can be installed with `pip`."
      ]
    },
    {
      "cell_type": "code",
      "metadata": {
        "colab": {
          "base_uri": "https://localhost:8080/"
        },
        "id": "gsm300IbOn_8",
        "outputId": "44833c87-8896-4c2a-e01a-74a3e4b67d62"
      },
      "source": [
        "!pip install -q gradio"
      ],
      "execution_count": 1,
      "outputs": [
        {
          "output_type": "stream",
          "name": "stdout",
          "text": [
            "\u001b[2K     \u001b[90m━━━━━━━━━━━━━━━━━━━━━━━━━━━━━━━━━━━━━━━━\u001b[0m \u001b[32m20.0/20.0 MB\u001b[0m \u001b[31m56.2 MB/s\u001b[0m eta \u001b[36m0:00:00\u001b[0m\n",
            "\u001b[2K     \u001b[90m━━━━━━━━━━━━━━━━━━━━━━━━━━━━━━━━━━━━━━━━\u001b[0m \u001b[32m65.7/65.7 kB\u001b[0m \u001b[31m6.3 MB/s\u001b[0m eta \u001b[36m0:00:00\u001b[0m\n",
            "\u001b[?25h  Preparing metadata (setup.py) ... \u001b[?25l\u001b[?25hdone\n",
            "\u001b[2K     \u001b[90m━━━━━━━━━━━━━━━━━━━━━━━━━━━━━━━━━━━━━━\u001b[0m \u001b[32m297.4/297.4 kB\u001b[0m \u001b[31m32.2 MB/s\u001b[0m eta \u001b[36m0:00:00\u001b[0m\n",
            "\u001b[2K     \u001b[90m━━━━━━━━━━━━━━━━━━━━━━━━━━━━━━━━━━━━━━━━\u001b[0m \u001b[32m75.4/75.4 kB\u001b[0m \u001b[31m7.5 MB/s\u001b[0m eta \u001b[36m0:00:00\u001b[0m\n",
            "\u001b[2K     \u001b[90m━━━━━━━━━━━━━━━━━━━━━━━━━━━━━━━━━━━━━━\u001b[0m \u001b[32m268.8/268.8 kB\u001b[0m \u001b[31m28.2 MB/s\u001b[0m eta \u001b[36m0:00:00\u001b[0m\n",
            "\u001b[2K     \u001b[90m━━━━━━━━━━━━━━━━━━━━━━━━━━━━━━━━━━━━━━━━\u001b[0m \u001b[32m50.5/50.5 kB\u001b[0m \u001b[31m6.4 MB/s\u001b[0m eta \u001b[36m0:00:00\u001b[0m\n",
            "\u001b[2K     \u001b[90m━━━━━━━━━━━━━━━━━━━━━━━━━━━━━━━━━━━━━━\u001b[0m \u001b[32m140.3/140.3 kB\u001b[0m \u001b[31m17.3 MB/s\u001b[0m eta \u001b[36m0:00:00\u001b[0m\n",
            "\u001b[2K     \u001b[90m━━━━━━━━━━━━━━━━━━━━━━━━━━━━━━━━━━━━━━━━\u001b[0m \u001b[32m45.7/45.7 kB\u001b[0m \u001b[31m4.9 MB/s\u001b[0m eta \u001b[36m0:00:00\u001b[0m\n",
            "\u001b[2K     \u001b[90m━━━━━━━━━━━━━━━━━━━━━━━━━━━━━━━━━━━━━━━━\u001b[0m \u001b[32m59.5/59.5 kB\u001b[0m \u001b[31m7.1 MB/s\u001b[0m eta \u001b[36m0:00:00\u001b[0m\n",
            "\u001b[2K     \u001b[90m━━━━━━━━━━━━━━━━━━━━━━━━━━━━━━━━━━━━━━\u001b[0m \u001b[32m129.9/129.9 kB\u001b[0m \u001b[31m15.3 MB/s\u001b[0m eta \u001b[36m0:00:00\u001b[0m\n",
            "\u001b[2K     \u001b[90m━━━━━━━━━━━━━━━━━━━━━━━━━━━━━━━━━━━━━━━━\u001b[0m \u001b[32m50.4/50.4 kB\u001b[0m \u001b[31m5.9 MB/s\u001b[0m eta \u001b[36m0:00:00\u001b[0m\n",
            "\u001b[2K     \u001b[90m━━━━━━━━━━━━━━━━━━━━━━━━━━━━━━━━━━━━━━━━\u001b[0m \u001b[32m46.5/46.5 kB\u001b[0m \u001b[31m4.8 MB/s\u001b[0m eta \u001b[36m0:00:00\u001b[0m\n",
            "\u001b[2K     \u001b[90m━━━━━━━━━━━━━━━━━━━━━━━━━━━━━━━━━━━━━━━━\u001b[0m \u001b[32m43.7/43.7 kB\u001b[0m \u001b[31m5.1 MB/s\u001b[0m eta \u001b[36m0:00:00\u001b[0m\n",
            "\u001b[2K     \u001b[90m━━━━━━━━━━━━━━━━━━━━━━━━━━━━━━━━━━━━━━━━\u001b[0m \u001b[32m41.0/41.0 kB\u001b[0m \u001b[31m4.6 MB/s\u001b[0m eta \u001b[36m0:00:00\u001b[0m\n",
            "\u001b[2K     \u001b[90m━━━━━━━━━━━━━━━━━━━━━━━━━━━━━━━━━━━━━━━━\u001b[0m \u001b[32m41.0/41.0 kB\u001b[0m \u001b[31m4.8 MB/s\u001b[0m eta \u001b[36m0:00:00\u001b[0m\n",
            "\u001b[2K     \u001b[90m━━━━━━━━━━━━━━━━━━━━━━━━━━━━━━━━━━━━━━━━\u001b[0m \u001b[32m87.5/87.5 kB\u001b[0m \u001b[31m10.4 MB/s\u001b[0m eta \u001b[36m0:00:00\u001b[0m\n",
            "\u001b[2K     \u001b[90m━━━━━━━━━━━━━━━━━━━━━━━━━━━━━━━━━━━━━━━━\u001b[0m \u001b[32m84.5/84.5 kB\u001b[0m \u001b[31m10.7 MB/s\u001b[0m eta \u001b[36m0:00:00\u001b[0m\n",
            "\u001b[2K     \u001b[90m━━━━━━━━━━━━━━━━━━━━━━━━━━━━━━━━━━━━━━━━\u001b[0m \u001b[32m58.3/58.3 kB\u001b[0m \u001b[31m6.6 MB/s\u001b[0m eta \u001b[36m0:00:00\u001b[0m\n",
            "\u001b[2K     \u001b[90m━━━━━━━━━━━━━━━━━━━━━━━━━━━━━━━━━━━━━━━━\u001b[0m \u001b[32m67.0/67.0 kB\u001b[0m \u001b[31m8.4 MB/s\u001b[0m eta \u001b[36m0:00:00\u001b[0m\n",
            "\u001b[2K     \u001b[90m━━━━━━━━━━━━━━━━━━━━━━━━━━━━━━━━━━━━━━━━\u001b[0m \u001b[32m74.5/74.5 kB\u001b[0m \u001b[31m8.6 MB/s\u001b[0m eta \u001b[36m0:00:00\u001b[0m\n",
            "\u001b[?25h  Building wheel for ffmpy (setup.py) ... \u001b[?25l\u001b[?25hdone\n"
          ]
        }
      ]
    },
    {
      "cell_type": "markdown",
      "metadata": {
        "id": "s14QIqJdL0vq"
      },
      "source": [
        "### 1. Basic Usage: \"Hello World\""
      ]
    },
    {
      "cell_type": "markdown",
      "metadata": {
        "id": "oxZ53stAMWkY"
      },
      "source": [
        "At it's core, `gradio` allows you to wrap UI elements around Python functions. There are a variety of UI elements including:\n",
        "\n",
        "* `Image` (drag-and-drop interface)\n",
        "* `Text` (write freeform text)\n",
        "* `Microphone` (record audio)\n",
        "* `Slider` (select a numerical value)\n",
        "\n",
        "and [many, many more](https://gradio.app/docs)! These are just the input interfaces. Most of these have corresponding output interfaces as well. With gradio, you simply combine 3 ingredients: **a Python function**, an **input component**, and an **output component**, and you're ready to go!\n",
        "\n",
        "Let's start with a basic example:"
      ]
    },
    {
      "cell_type": "code",
      "metadata": {
        "colab": {
          "base_uri": "https://localhost:8080/",
          "height": 591
        },
        "id": "A6LnPkUEL1KJ",
        "outputId": "44e6247e-e8c3-40f8-c1d2-6bdbaf3c7749"
      },
      "source": [
        "import gradio as gr\n",
        "import time\n",
        "\n",
        "def replace(text):\n",
        "    return text.replace('World', 'Databricks')\n",
        "\n",
        "gr.Interface(fn=replace,\n",
        "             inputs='textbox',\n",
        "             outputs='textbox').launch(share=True);\n",
        "\n",
        "\n",
        "\"\"\" Equivalent Code:\n",
        "gr.Interface(fn=replace,\n",
        "             inputs=gr.inputs.Textbox(),\n",
        "             outputs=gr.outputs.Textbox()).launch();\n",
        "\"\"\";"
      ],
      "execution_count": 2,
      "outputs": [
        {
          "output_type": "stream",
          "name": "stdout",
          "text": [
            "Colab notebook detected. To show errors in colab notebook, set debug=True in launch()\n",
            "Running on public URL: https://2b5101bd85a6a6e93a.gradio.live\n",
            "\n",
            "This share link expires in 72 hours. For free permanent hosting and GPU upgrades, run `gradio deploy` from Terminal to deploy to Spaces (https://huggingface.co/spaces)\n"
          ]
        },
        {
          "output_type": "display_data",
          "data": {
            "text/plain": [
              "<IPython.core.display.HTML object>"
            ],
            "text/html": [
              "<div><iframe src=\"https://2b5101bd85a6a6e93a.gradio.live\" width=\"100%\" height=\"500\" allow=\"autoplay; camera; microphone; clipboard-read; clipboard-write;\" frameborder=\"0\" allowfullscreen></iframe></div>"
            ]
          },
          "metadata": {}
        }
      ]
    },
    {
      "cell_type": "markdown",
      "metadata": {
        "id": "KeJybTdcL86v"
      },
      "source": [
        "### 2. MNIST Example"
      ]
    },
    {
      "cell_type": "markdown",
      "metadata": {
        "id": "Hjbqeo1KSOP0"
      },
      "source": [
        "Now that we've gotten the basic idea, let's try with a more interesting example, a machine learning model:"
      ]
    },
    {
      "cell_type": "code",
      "metadata": {
        "colab": {
          "base_uri": "https://localhost:8080/",
          "height": 660
        },
        "id": "VDwoAulqSE80",
        "outputId": "e300fc07-221f-4c6e-9369-6099c8b2617a"
      },
      "source": [
        "import tensorflow as tf\n",
        "import numpy as np\n",
        "from urllib.request import urlretrieve\n",
        "import gradio as gr\n",
        "\n",
        "urlretrieve(\"https://gr-models.s3-us-west-2.amazonaws.com/mnist-model.h5\", \"mnist-model.h5\")\n",
        "model = tf.keras.models.load_model(\"mnist-model.h5\")\n",
        "\n",
        "def recognize_digit(image):\n",
        "    image = image.reshape(1, -1)  # add a batch dimension\n",
        "    prediction = model.predict(image).tolist()[0]\n",
        "    return {str(i): prediction[i] for i in range(10)}\n",
        "\n",
        "output_component = gr.outputs.Label(num_top_classes=3)\n",
        "\n",
        "gr.Interface(fn=recognize_digit,\n",
        "             inputs=\"sketchpad\",\n",
        "             outputs=output_component).launch(share=True);"
      ],
      "execution_count": 3,
      "outputs": [
        {
          "output_type": "stream",
          "name": "stderr",
          "text": [
            "<ipython-input-3-24ed89e3fe1b>:14: GradioDeprecationWarning: Usage of gradio.outputs is deprecated, and will not be supported in the future, please import your components from gradio.components\n",
            "  output_component = gr.outputs.Label(num_top_classes=3)\n",
            "<ipython-input-3-24ed89e3fe1b>:14: GradioUnusedKwargWarning: You have unused kwarg parameters in Label, please remove them: {'type': 'auto'}\n",
            "  output_component = gr.outputs.Label(num_top_classes=3)\n"
          ]
        },
        {
          "output_type": "stream",
          "name": "stdout",
          "text": [
            "Colab notebook detected. To show errors in colab notebook, set debug=True in launch()\n",
            "Running on public URL: https://c60b0ba039ea7138b5.gradio.live\n",
            "\n",
            "This share link expires in 72 hours. For free permanent hosting and GPU upgrades, run `gradio deploy` from Terminal to deploy to Spaces (https://huggingface.co/spaces)\n"
          ]
        },
        {
          "output_type": "display_data",
          "data": {
            "text/plain": [
              "<IPython.core.display.HTML object>"
            ],
            "text/html": [
              "<div><iframe src=\"https://c60b0ba039ea7138b5.gradio.live\" width=\"100%\" height=\"500\" allow=\"autoplay; camera; microphone; clipboard-read; clipboard-write;\" frameborder=\"0\" allowfullscreen></iframe></div>"
            ]
          },
          "metadata": {}
        }
      ]
    },
    {
      "cell_type": "markdown",
      "metadata": {
        "id": "nEMu1IBiFaSR"
      },
      "source": [
        "### 2b. MNIST (Live Predictions)"
      ]
    },
    {
      "cell_type": "code",
      "metadata": {
        "colab": {
          "base_uri": "https://localhost:8080/",
          "height": 616
        },
        "id": "IS0-tQ8cFZfx",
        "outputId": "cad54981-622e-44a5-d72a-d8b588ba45df"
      },
      "source": [
        "gr.Interface(fn=recognize_digit,\n",
        "             inputs=\"sketchpad\",\n",
        "             outputs=output_component, live=True).launch();"
      ],
      "execution_count": 4,
      "outputs": [
        {
          "output_type": "stream",
          "name": "stdout",
          "text": [
            "Colab notebook detected. To show errors in colab notebook, set debug=True in launch()\n",
            "Note: opening Chrome Inspector may crash demo inside Colab notebooks.\n",
            "\n",
            "To create a public link, set `share=True` in `launch()`.\n"
          ]
        },
        {
          "output_type": "display_data",
          "data": {
            "text/plain": [
              "<IPython.core.display.Javascript object>"
            ],
            "application/javascript": [
              "(async (port, path, width, height, cache, element) => {\n",
              "                        if (!google.colab.kernel.accessAllowed && !cache) {\n",
              "                            return;\n",
              "                        }\n",
              "                        element.appendChild(document.createTextNode(''));\n",
              "                        const url = await google.colab.kernel.proxyPort(port, {cache});\n",
              "\n",
              "                        const external_link = document.createElement('div');\n",
              "                        external_link.innerHTML = `\n",
              "                            <div style=\"font-family: monospace; margin-bottom: 0.5rem\">\n",
              "                                Running on <a href=${new URL(path, url).toString()} target=\"_blank\">\n",
              "                                    https://localhost:${port}${path}\n",
              "                                </a>\n",
              "                            </div>\n",
              "                        `;\n",
              "                        element.appendChild(external_link);\n",
              "\n",
              "                        const iframe = document.createElement('iframe');\n",
              "                        iframe.src = new URL(path, url).toString();\n",
              "                        iframe.height = height;\n",
              "                        iframe.allow = \"autoplay; camera; microphone; clipboard-read; clipboard-write;\"\n",
              "                        iframe.width = width;\n",
              "                        iframe.style.border = 0;\n",
              "                        element.appendChild(iframe);\n",
              "                    })(7862, \"/\", \"100%\", 500, false, window.element)"
            ]
          },
          "metadata": {}
        }
      ]
    },
    {
      "cell_type": "markdown",
      "metadata": {
        "id": "B87btLfDFs9P"
      },
      "source": [
        "### 3. Manipulating Images"
      ]
    },
    {
      "cell_type": "code",
      "metadata": {
        "colab": {
          "base_uri": "https://localhost:8080/",
          "height": 764
        },
        "id": "uHfwbEzMFvHr",
        "outputId": "ff552759-5df6-4994-f97b-dadeefb31f5f"
      },
      "source": [
        "import gradio as gr\n",
        "import tensorflow as tf\n",
        "import numpy as np\n",
        "import requests\n",
        "\n",
        "inception_net = tf.keras.applications.InceptionV3() # load the model\n",
        "\n",
        "# Download human-readable labels for ImageNet.\n",
        "response = requests.get(\"https://git.io/JJkYN\")\n",
        "labels = response.text.split(\"\\n\")\n",
        "\n",
        "def classify_image(inp):\n",
        "  inp = np.expand_dims(inp, 0)\n",
        "  inp = tf.keras.applications.inception_v3.preprocess_input(inp)\n",
        "  prediction = inception_net.predict(inp).flatten()\n",
        "  return {labels[i]: float(prediction[i]) for i in range(1000)}\n",
        "\n",
        "image = gr.inputs.Image(shape=(299, 299))\n",
        "label = gr.outputs.Label(num_top_classes=3)\n",
        "\n",
        "gr.Interface(fn=classify_image, inputs=image, outputs=label).launch(share=True);"
      ],
      "execution_count": 5,
      "outputs": [
        {
          "output_type": "stream",
          "name": "stdout",
          "text": [
            "Downloading data from https://storage.googleapis.com/tensorflow/keras-applications/inception_v3/inception_v3_weights_tf_dim_ordering_tf_kernels.h5\n",
            "96112376/96112376 [==============================] - 2s 0us/step\n"
          ]
        },
        {
          "output_type": "stream",
          "name": "stderr",
          "text": [
            "<ipython-input-5-b7c7ebbfb36d>:18: GradioDeprecationWarning: Usage of gradio.inputs is deprecated, and will not be supported in the future, please import your component from gradio.components\n",
            "  image = gr.inputs.Image(shape=(299, 299))\n",
            "<ipython-input-5-b7c7ebbfb36d>:18: GradioDeprecationWarning: `optional` parameter is deprecated, and it has no effect\n",
            "  image = gr.inputs.Image(shape=(299, 299))\n",
            "<ipython-input-5-b7c7ebbfb36d>:19: GradioDeprecationWarning: Usage of gradio.outputs is deprecated, and will not be supported in the future, please import your components from gradio.components\n",
            "  label = gr.outputs.Label(num_top_classes=3)\n",
            "<ipython-input-5-b7c7ebbfb36d>:19: GradioUnusedKwargWarning: You have unused kwarg parameters in Label, please remove them: {'type': 'auto'}\n",
            "  label = gr.outputs.Label(num_top_classes=3)\n"
          ]
        },
        {
          "output_type": "stream",
          "name": "stdout",
          "text": [
            "Colab notebook detected. To show errors in colab notebook, set debug=True in launch()\n",
            "Running on public URL: https://a2324d77408d5a1f1a.gradio.live\n",
            "\n",
            "This share link expires in 72 hours. For free permanent hosting and GPU upgrades, run `gradio deploy` from Terminal to deploy to Spaces (https://huggingface.co/spaces)\n"
          ]
        },
        {
          "output_type": "display_data",
          "data": {
            "text/plain": [
              "<IPython.core.display.HTML object>"
            ],
            "text/html": [
              "<div><iframe src=\"https://a2324d77408d5a1f1a.gradio.live\" width=\"100%\" height=\"500\" allow=\"autoplay; camera; microphone; clipboard-read; clipboard-write;\" frameborder=\"0\" allowfullscreen></iframe></div>"
            ]
          },
          "metadata": {}
        }
      ]
    },
    {
      "cell_type": "markdown",
      "metadata": {
        "id": "sdtl9MeXU_Pp"
      },
      "source": [
        "# 3b. Adding Interpretation (*NEW*)"
      ]
    },
    {
      "cell_type": "code",
      "metadata": {
        "colab": {
          "base_uri": "https://localhost:8080/",
          "height": 591
        },
        "id": "276YIqmvVB98",
        "outputId": "3c6cdd45-e692-4084-f799-8aaec5505dd5"
      },
      "source": [
        "gr.Interface(fn=classify_image, inputs=image, outputs=label, interpretation=\"default\").launch();"
      ],
      "execution_count": null,
      "outputs": [
        {
          "output_type": "stream",
          "name": "stdout",
          "text": [
            "Colab notebook detected. To show errors in colab notebook, set `debug=True` in `launch()`\n",
            "This share link will expire in 72 hours. If you need a permanent link, visit: https://gradio.app/introducing-hosted\n",
            "Running on External URL: https://37079.gradio.app\n",
            "Interface loading below...\n"
          ]
        },
        {
          "output_type": "display_data",
          "data": {
            "text/html": [
              "\n",
              "        <iframe\n",
              "            width=\"900\"\n",
              "            height=\"500\"\n",
              "            src=\"https://37079.gradio.app\"\n",
              "            frameborder=\"0\"\n",
              "            allowfullscreen\n",
              "        ></iframe>\n",
              "        "
            ],
            "text/plain": [
              "<IPython.lib.display.IFrame at 0x7f75609cbf90>"
            ]
          },
          "metadata": {}
        }
      ]
    },
    {
      "cell_type": "markdown",
      "metadata": {
        "id": "VN1eXb9-vAVP"
      },
      "source": [
        "### How does sharing and flagging work?\n",
        "\n",
        "![link text](https://gradio.app/static/home/img/sharing.svg)"
      ]
    },
    {
      "cell_type": "markdown",
      "metadata": {
        "id": "hORpUeQ5_5Se"
      },
      "source": [
        "### 4. Multiple Inputs and Outputs, with Timeseries"
      ]
    },
    {
      "cell_type": "code",
      "metadata": {
        "colab": {
          "background_save": true,
          "base_uri": "https://localhost:8080/",
          "height": 587
        },
        "id": "nHPMEgBZ_2uC",
        "outputId": "21fcfc92-691a-4c37-b3fd-918b957664ff"
      },
      "source": [
        "import gradio as gr\n",
        "import pandas as pd\n",
        "import random\n",
        "\n",
        "\n",
        "def storm_predictor(data, categories, sensitivity):\n",
        "    activity_range = random.randint(0, 100)\n",
        "    return {\"Storm\": activity_range / 100., \"No storm\": 1 - activity_range / 100.}\n",
        "\n",
        "iface = gr.Interface(storm_predictor,\n",
        "                     [\n",
        "                         gr.inputs.Timeseries(\n",
        "                             x=\"time\",\n",
        "                             y=[\"wind\", \"temperature\", \"precipitation\"]\n",
        "                         ),\n",
        "                         gr.inputs.CheckboxGroup([\"wind\", \"temperature\", \"precipitation\"], default=[\n",
        "                             \"wind\", \"temperature\", \"precipitation\"]),\n",
        "                         gr.inputs.Slider(1, 3)\n",
        "                     ],\n",
        "                     gr.outputs.Label(label=\"Risk of storm\"),\n",
        "                     )\n",
        "\n",
        "iface.launch(debug=True)"
      ],
      "execution_count": null,
      "outputs": [
        {
          "name": "stdout",
          "output_type": "stream",
          "text": [
            "Colab notebook detected. This cell will run indefinitely so that you can see errors and logs. To turn off, set debug=False in launch().\n",
            "This share link will expire in 24 hours. If you need a permanent link, visit: https://gradio.app/introducing-hosted (NEW!)\n",
            "Running on External URL: https://14652.gradio.app\n",
            "Interface loading below...\n"
          ]
        },
        {
          "data": {
            "text/html": [
              "\n",
              "        <iframe\n",
              "            width=\"900\"\n",
              "            height=\"500\"\n",
              "            src=\"https://14652.gradio.app\"\n",
              "            frameborder=\"0\"\n",
              "            allowfullscreen\n",
              "        ></iframe>\n",
              "        "
            ],
            "text/plain": [
              "<IPython.lib.display.IFrame at 0x7f0279e40850>"
            ]
          },
          "metadata": {},
          "output_type": "display_data"
        }
      ]
    },
    {
      "cell_type": "markdown",
      "metadata": {
        "id": "yyE-6xsaGqwA"
      },
      "source": [
        "### 5. Comparing Multiple Models in Parallel and Adding Metadata"
      ]
    },
    {
      "cell_type": "code",
      "metadata": {
        "colab": {
          "base_uri": "https://localhost:8080/",
          "height": 623
        },
        "id": "gS7Dftf8Gmqq",
        "outputId": "a2b0d284-60c7-49aa-85de-c307d3155270"
      },
      "source": [
        "import gradio as gr\n",
        "import tensorflow as tf\n",
        "import numpy as np\n",
        "from PIL import Image\n",
        "import requests\n",
        "from urllib.request import urlretrieve\n",
        "\n",
        "# Download human-readable labels for ImageNet.\n",
        "response = requests.get(\"https://git.io/JJkYN\")\n",
        "labels = response.text.split(\"\\n\")\n",
        "\n",
        "# Download sample images\n",
        "urlretrieve(\"https://www.sciencemag.org/sites/default/files/styles/article_main_large/public/cc_BE6RJF_16x9.jpg?itok=nP17Fm9H\",\"monkey.jpg\")\n",
        "urlretrieve(\"https://www.discoverboating.com/sites/default/files/inline-images/buying-a-sailboat-checklist.jpg\",\"sailboat.jpg\")\n",
        "urlretrieve(\"https://external-preview.redd.it/lG5mI_9Co1obw2TiY0e-oChlXfEQY3tsRaIjpYjERqs.jpg?auto=webp&s=ea81982f44b83efbb803c8cff8953ee547624f70\",\"bicycle.jpg\")\n",
        "urlretrieve(\"https://www.chamaripashoes.com/blog/wp-content/uploads/2018/09/Robert-Downey-Jr..jpg\",\"rdj.jpg\")\n",
        "\n",
        "mobile_net = tf.keras.applications.MobileNetV2()\n",
        "inception_net = tf.keras.applications.InceptionV3()\n",
        "\n",
        "def classify_image_with_mobile_net(im):\n",
        "  im = Image.fromarray(im.astype('uint8'), 'RGB')\n",
        "  im = im.resize((224, 224))\n",
        "  arr = np.array(im).reshape((-1, 224, 224, 3))\n",
        "  arr = tf.keras.applications.mobilenet.preprocess_input(arr)\n",
        "  prediction = mobile_net.predict(arr).flatten()\n",
        "  return {labels[i]: float(prediction[i]) for i in range(1000)}\n",
        "\n",
        "\n",
        "def classify_image_with_inception_net(im):\n",
        "  im = Image.fromarray(im.astype('uint8'), 'RGB')\n",
        "  im = im.resize((299, 299))\n",
        "  arr = np.array(im).reshape((-1, 299, 299, 3))\n",
        "  arr = tf.keras.applications.inception_v3.preprocess_input(arr)\n",
        "  prediction = inception_net.predict(arr).flatten()\n",
        "  return {labels[i]: float(prediction[i]) for i in range(1000)}\n",
        "\n",
        "imagein = gr.inputs.Image()\n",
        "label = gr.outputs.Label(num_top_classes=3)\n",
        "sample_images = [[\"monkey.jpg\"],\n",
        "                 [\"rdj.jpg\"],\n",
        "                 [\"sailboat.jpg\"],\n",
        "                 [\"bicycle.jpg\"]]\n",
        "\n",
        "gr.Interface(\n",
        "    [classify_image_with_mobile_net, classify_image_with_inception_net],\n",
        "    imagein,\n",
        "    label,\n",
        "    title=\"MobileNet vs. InceptionNet\",\n",
        "    description=\"Compare 2 state-of-the-art machine learning models\",\n",
        "    examples=sample_images).launch();"
      ],
      "execution_count": null,
      "outputs": [
        {
          "name": "stdout",
          "output_type": "stream",
          "text": [
            "Downloading data from https://storage.googleapis.com/tensorflow/keras-applications/mobilenet_v2/mobilenet_v2_weights_tf_dim_ordering_tf_kernels_1.0_224.h5\n",
            "14540800/14536120 [==============================] - 0s 0us/step\n",
            "Colab notebook detected. To show errors in colab notebook, set debug=True in launch()\n",
            "This share link will expire in 6 hours. If you need a permanent link, email support@gradio.app\n",
            "Running on External URL: https://43217.gradio.app\n",
            "Interface loading below...\n"
          ]
        },
        {
          "data": {
            "text/html": [
              "\n",
              "        <iframe\n",
              "            width=\"1000\"\n",
              "            height=\"500\"\n",
              "            src=\"https://43217.gradio.app\"\n",
              "            frameborder=\"0\"\n",
              "            allowfullscreen\n",
              "        ></iframe>\n",
              "        "
            ],
            "text/plain": [
              "<IPython.lib.display.IFrame at 0x7fd38b77b898>"
            ]
          },
          "metadata": {
            "tags": []
          },
          "output_type": "display_data"
        }
      ]
    },
    {
      "cell_type": "markdown",
      "metadata": {
        "id": "Ra5fPHq9SwAn"
      },
      "source": [
        "# Next Steps"
      ]
    },
    {
      "cell_type": "markdown",
      "metadata": {
        "id": "Pae2hzVETGXI"
      },
      "source": [
        "To get a sense of what kind of interfaces you can create, check out our model hub: www.gradio.app/hub\n",
        "\n",
        "![link text](https://i.imgur.com/V4BbZhg.png)\n",
        "\n",
        "Share your interfaces"
      ]
    },
    {
      "cell_type": "code",
      "metadata": {
        "colab": {
          "base_uri": "https://localhost:8080/",
          "height": 640
        },
        "id": "G8Az9Csfo1Y3",
        "outputId": "709ed479-5716-4c40-847a-5eda35eefcf4"
      },
      "source": [
        "import gradio as gr\n",
        "import pandas as pd\n",
        "import time\n",
        "\n",
        "def predict(file_obj,Question):\n",
        "    time.sleep(200)\n",
        "    df = pd.read_csv(file_obj.name,dtype=str)\n",
        "    return df\n",
        "\n",
        "\n",
        "io = gr.Interface(predict, [\"file\",gr.inputs.Textbox(placeholder=\"Enter Question here...\")], \"dataframe\")\n",
        "io.launch()"
      ],
      "execution_count": null,
      "outputs": [
        {
          "name": "stdout",
          "output_type": "stream",
          "text": [
            "Colab notebook detected. To show errors in colab notebook, set debug=True in launch()\n",
            "This share link will expire in 6 hours. If you need a permanent link, email support@gradio.app\n",
            "Running on External URL: https://46051.gradio.app\n",
            "Interface loading below...\n"
          ]
        },
        {
          "data": {
            "text/html": [
              "\n",
              "        <iframe\n",
              "            width=\"1000\"\n",
              "            height=\"500\"\n",
              "            src=\"https://46051.gradio.app\"\n",
              "            frameborder=\"0\"\n",
              "            allowfullscreen\n",
              "        ></iframe>\n",
              "        "
            ],
            "text/plain": [
              "<IPython.lib.display.IFrame at 0x7f0431f399e8>"
            ]
          },
          "metadata": {
            "tags": []
          },
          "output_type": "display_data"
        },
        {
          "data": {
            "text/plain": [
              "(<Flask 'gradio.networking'>,\n",
              " 'http://127.0.0.1:7862/',\n",
              " 'https://46051.gradio.app')"
            ]
          },
          "execution_count": 5,
          "metadata": {
            "tags": []
          },
          "output_type": "execute_result"
        }
      ]
    }
  ]
}